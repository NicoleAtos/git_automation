{
 "cells": [
  {
   "cell_type": "code",
   "execution_count": 0,
   "metadata": {
    "application/vnd.databricks.v1+cell": {
     "cellMetadata": {},
     "inputWidgets": {},
     "nuid": "4000cad6-5c48-4648-8c80-79073a267685",
     "showTitle": false,
     "tableResultSettingsMap": {},
     "title": ""
    }
   },
   "outputs": [],
   "source": [
    "import os\n",
    "from datetime import datetime\n",
    "from delta.tables import DeltaTable\n",
    "from global_lib.global_utils.logging import GlobalLogger"
   ]
  },
  {
   "cell_type": "code",
   "execution_count": 0,
   "metadata": {
    "application/vnd.databricks.v1+cell": {
     "cellMetadata": {},
     "inputWidgets": {},
     "nuid": "0f4169df-c169-46c1-a071-cf0f0e15dece",
     "showTitle": false,
     "tableResultSettingsMap": {},
     "title": ""
    }
   },
   "outputs": [],
   "source": [
    "catalog = \"\"\n",
    "schema = \"\"\n",
    "table = \"\"\n",
    "\n",
    "logger = GlobalLogger()\n"
   ]
  },
  {
   "cell_type": "code",
   "execution_count": 0,
   "metadata": {
    "application/vnd.databricks.v1+cell": {
     "cellMetadata": {
      "byteLimit": 2048000,
      "rowLimit": 10000
     },
     "inputWidgets": {},
     "nuid": "f7887f09-d55c-4a3e-9fd7-d92a2902f72f",
     "showTitle": false,
     "tableResultSettingsMap": {},
     "title": ""
    }
   },
   "outputs": [],
   "source": [
    "# Config\n",
    "TABLE_NAME = \"your_catalog.schema.grants_table\"  # Replace with your actual table name\n",
    "logger = GlobalLogger()\n",
    "\n",
    "# Delete records where marked_for_deletion = true\n",
    "delta_table = DeltaTable.forName(spark, TABLE_NAME)\n",
    "delta_table.delete(\"marked_for_deletion = true\")\n",
    "print(\"Deleted rows where marked_for_deletion = true\")\n",
    "# logger.log(\"Deleted rows where marked_for_deletion = true\")\n",
    "\n",
    "# Process remaining records for expiry\n",
    "df = spark.table(TABLE_NAME)\n",
    "current_time = datetime.utcnow()\n",
    "\n",
    "rows = df.select(\n",
    "    \"id\", \"system\", \"environment\", \"object_type\", \"object_name\",\n",
    "    \"privilege\", \"principal\", \"action\", \"expiry\"\n",
    ").collect()\n",
    "\n",
    "for row in rows:\n",
    "    expiry = row[\"expiry\"]\n",
    "\n",
    "    if expiry is None:\n",
    "        print(f\"Skipping id={row['id']} (no expiry date)\")\n",
    "        continue\n",
    "\n",
    "    if expiry > current_time:\n",
    "        print(f\"Skipping id={row['id']} (expiry date in the future)\")\n",
    "        continue\n",
    "\n",
    "    # Expired — revoke directly\n",
    "    print(f\"Revoking expired privilege for principal={row['principal']} on object={row['object_name']}\")\n",
    "\n",
    "    try:\n",
    "        revoke_stmt = f\"\"\"\n",
    "            REVOKE {row['privilege']} ON {row['object_type']} {row['object_name']} FROM `{row['principal']}`\n",
    "        \"\"\"\n",
    "        spark.sql(revoke_stmt)\n",
    "\n",
    "    except Exception as e:\n",
    "        print(f\"Failed to revoke for id={row['id']}: {e}\")\n",
    "        logger.log(e, custom_input={\"object_name\": \"ExpirationProcessor\"})\n"
   ]
  },
  {
   "cell_type": "code",
   "execution_count": 0,
   "metadata": {
    "application/vnd.databricks.v1+cell": {
     "cellMetadata": {},
     "inputWidgets": {},
     "nuid": "243567c1-6973-4792-bb7f-59cbc491b021",
     "showTitle": false,
     "tableResultSettingsMap": {},
     "title": ""
    }
   },
   "outputs": [],
   "source": []
  }
 ],
 "metadata": {
  "application/vnd.databricks.v1+notebook": {
   "computePreferences": null,
   "dashboards": [],
   "environmentMetadata": {
    "base_environment": "",
    "environment_version": "2"
   },
   "inputWidgetPreferences": null,
   "language": "python",
   "notebookMetadata": {
    "pythonIndentUnit": 4
   },
   "notebookName": "expired_grants_revoker",
   "widgets": {}
  },
  "language_info": {
   "name": "python"
  }
 },
 "nbformat": 4,
 "nbformat_minor": 0
}
