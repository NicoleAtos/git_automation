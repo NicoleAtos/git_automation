{
 "cells": [
  {
   "cell_type": "code",
   "execution_count": 0,
   "metadata": {
    "application/vnd.databricks.v1+cell": {
     "cellMetadata": {
      "byteLimit": 2048000,
      "rowLimit": 10000
     },
     "inputWidgets": {},
     "nuid": "697e1266-4ead-4343-86d2-6e2ba61b71b9",
     "showTitle": false,
     "tableResultSettingsMap": {},
     "title": ""
    }
   },
   "outputs": [],
   "source": [
    "from typing import Union, List, Optional, Literal, Set\n",
    "from pydantic import BaseModel, Field, validator\n",
    "from pathlib import Path\n",
    "from datetime import datetime\n",
    "\n",
    "import yaml"
   ]
  },
  {
   "cell_type": "code",
   "execution_count": 0,
   "metadata": {
    "application/vnd.databricks.v1+cell": {
     "cellMetadata": {},
     "inputWidgets": {},
     "nuid": "92003808-2817-4610-8287-aea7b8be2179",
     "showTitle": false,
     "tableResultSettingsMap": {},
     "title": ""
    }
   },
   "outputs": [],
   "source": [
    "ALLOWED_ENVIRONMENTS = [\"dev\", \"qas\", \"prd\"]\n",
    "ALLOWED_SYSTEMS = [\"databricks\"]\n",
    "ALLOWED_PRIVILEGES = [\"SELECT\", \"INSERT\", \"DELETE\", \"UPDATE\"]\n",
    "ALLOWED_OBJECT_TYPES = [\"VIEW\", \"TABLE\", \"DATABASE\", \"SCHEMA\"]\n",
    "ALLOWED_PRINCIPAL_TYPES = [\"user\", \"group\", \"service_principal\"]"
   ]
  },
  {
   "cell_type": "code",
   "execution_count": 0,
   "metadata": {
    "application/vnd.databricks.v1+cell": {
     "cellMetadata": {
      "byteLimit": 2048000,
      "rowLimit": 10000
     },
     "inputWidgets": {},
     "nuid": "bdfde836-2877-40db-a300-4c07105fb1df",
     "showTitle": false,
     "tableResultSettingsMap": {},
     "title": ""
    }
   },
   "outputs": [],
   "source": [
    "def validate_allowed_values(field_name: str, allowed_values: Set[str]):\n",
    "    def validator_func(cls, v):\n",
    "        values = [v] if isinstance(v, str) else v\n",
    "        if not all(item in allowed_values for item in values):\n",
    "            raise ValueError(\n",
    "                f\"{field_name} contains invalid values: {values}. Allowed: {allowed_values}\"\n",
    "            )\n",
    "        return v\n",
    "    return validator_func\n",
    "\n",
    "\n",
    "class HeaderModel(BaseModel):\n",
    "    created_at: datetime\n",
    "    created_by: str\n",
    "    system: Union[str, List[str]]\n",
    "    environment: Union[str, List[str]]\n",
    "\n",
    "    _validate_environment = validator(\"environment\", allow_reuse=True)(validate_allowed_values(\"environment\", ALLOWED_ENVIRONMENTS))\n",
    "    _validate_system = validator(\"system\", allow_reuse=True)(validate_allowed_values(\"system\", ALLOWED_SYSTEMS))\n",
    "\n",
    "class ObjectModel(BaseModel):\n",
    "    type: Literal[*ALLOWED_OBJECT_TYPES]\n",
    "    name: Union[str, List[str]]\n",
    "\n",
    "class PrincipalModel(BaseModel):\n",
    "    type: Literal[*ALLOWED_PRINCIPAL_TYPES]\n",
    "    name: Union[str, List[str]]\n",
    "\n",
    "class FullDocumentModel(BaseModel):\n",
    "    id: int\n",
    "    object: ObjectModel\n",
    "    principal: PrincipalModel\n",
    "    privilege: str\n",
    "    expiry: Optional[datetime] = None\n",
    "\n",
    "    @validator(\"privilege\")\n",
    "    def validate_privilege(cls, v):\n",
    "        tokens = v.strip().upper().split()\n",
    "        if tokens[0] == \"REVOKE\":\n",
    "            if len(tokens) == 1:\n",
    "                return v  # revoke-all\n",
    "            elif len(tokens) == 2 and tokens[1] in ALLOWED_PRIVILEGES:\n",
    "                return v  # revoke single privilege\n",
    "            else:\n",
    "                raise ValueError(f\"Invalid privilege format: {v}\")\n",
    "        elif tokens[0] in ALLOWED_PRIVILEGES:\n",
    "            return v  # normal grant\n",
    "        else:\n",
    "            raise ValueError(f\"Invalid privilege format: {v}\")\n",
    "\n",
    "def validate_yaml_file(file_path: Path):\n",
    "    with open(file_path) as f:\n",
    "        docs = list(yaml.safe_load_all(f))\n",
    "\n",
    "    for i, doc in enumerate(docs):\n",
    "            if i == 0:\n",
    "                validated = HeaderModel(**doc)\n",
    "                print(f\"✅ Header document validated successfully.\")\n",
    "            else:\n",
    "                validated = FullDocumentModel(**doc)\n",
    "                print(f\"✅ Entry [{validated.id}] validated successfully.\")"
   ]
  },
  {
   "cell_type": "code",
   "execution_count": 0,
   "metadata": {
    "application/vnd.databricks.v1+cell": {
     "cellMetadata": {
      "byteLimit": 2048000,
      "rowLimit": 10000
     },
     "inputWidgets": {},
     "nuid": "a0f333b5-04c3-460e-8fee-eac1d8a55696",
     "showTitle": false,
     "tableResultSettingsMap": {},
     "title": ""
    }
   },
   "outputs": [],
   "source": [
    "import sys\n",
    "\n",
    "files_to_check = sys.argv[1:]\n",
    "\n",
    "for path in files_to_check:\n",
    "    print(f\"Validating {path}\")\n",
    "    validate_yaml_file(path)"
   ]
  }
 ],
 "metadata": {
  "application/vnd.databricks.v1+notebook": {
   "computePreferences": null,
   "dashboards": [],
   "environmentMetadata": {
    "base_environment": "",
    "environment_version": "2"
   },
   "inputWidgetPreferences": null,
   "language": "python",
   "notebookMetadata": {
    "pythonIndentUnit": 4
   },
   "notebookName": "YAML_checker",
   "widgets": {}
  },
  "language_info": {
   "name": "python"
  }
 },
 "nbformat": 4,
 "nbformat_minor": 0
}
